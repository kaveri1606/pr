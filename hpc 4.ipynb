{
  "cells": [
    {
      "cell_type": "code",
      "source": [
        "pip install cupy\n"
      ],
      "metadata": {
        "id": "apeYyDyiwJpt",
        "outputId": "7fee5b05-db63-467b-b766-32717703b05c",
        "colab": {
          "base_uri": "https://localhost:8080/"
        }
      },
      "execution_count": null,
      "outputs": [
        {
          "output_type": "stream",
          "name": "stdout",
          "text": [
            "Collecting cupy\n",
            "  Downloading cupy-13.4.1.tar.gz (3.5 MB)\n",
            "\u001b[2K     \u001b[90m━━━━━━━━━━━━━━━━━━━━━━━━━━━━━━━━━━━━━━━━\u001b[0m \u001b[32m3.5/3.5 MB\u001b[0m \u001b[31m32.0 MB/s\u001b[0m eta \u001b[36m0:00:00\u001b[0m\n",
            "\u001b[?25h  Preparing metadata (setup.py) ... \u001b[?25l\u001b[?25hdone\n",
            "Requirement already satisfied: numpy<2.3,>=1.22 in /usr/local/lib/python3.11/dist-packages (from cupy) (2.0.2)\n",
            "Requirement already satisfied: fastrlock>=0.5 in /usr/local/lib/python3.11/dist-packages (from cupy) (0.8.3)\n",
            "Building wheels for collected packages: cupy\n"
          ]
        }
      ]
    },
    {
      "cell_type": "code",
      "source": [
        "import cupy as cp\n",
        "\n",
        "def initialize_vector(size):\n",
        "    return cp.random.randint(0, 10, size)\n",
        "\n",
        "def initialize_matrix(size):\n",
        "    return cp.random.randint(0, 10, (size, size))\n",
        "\n",
        "def add_vectors(A, B):\n",
        "    return A + B\n",
        "\n",
        "def multiply_matrices(A, B):\n",
        "    return A @ B  # or cp.matmul(A, B)\n",
        "\n",
        "def print_vector(vector):\n",
        "    print(' '.join(map(str, cp.asnumpy(vector))))\n",
        "\n",
        "def print_matrix(matrix):\n",
        "    for row in cp.asnumpy(matrix):\n",
        "        print(' '.join(map(str, row)))\n",
        "    print()\n",
        "\n",
        "def main():\n",
        "    N = 4\n",
        "\n",
        "    # Vector addition\n",
        "    A = initialize_vector(N)\n",
        "    B = initialize_vector(N)\n",
        "\n",
        "    print(\"Vector A:\")\n",
        "    print_vector(A)\n",
        "\n",
        "    print(\"Vector B:\")\n",
        "    print_vector(B)\n",
        "\n",
        "    C = add_vectors(A, B)\n",
        "\n",
        "    print(\"Addition:\")\n",
        "    print_vector(C)\n",
        "\n",
        "    # Matrix multiplication\n",
        "    D = initialize_matrix(N)\n",
        "    E = initialize_matrix(N)\n",
        "\n",
        "    print(\"\\nMatrix D:\")\n",
        "    print_matrix(D)\n",
        "\n",
        "    print(\"Matrix E:\")\n",
        "    print_matrix(E)\n",
        "\n",
        "    F = multiply_matrices(D, E)\n",
        "\n",
        "    print(\"Multiplication:\")\n",
        "    print_matrix(F)\n",
        "\n",
        "if __name__ == \"__main__\":\n",
        "    main()\n"
      ],
      "metadata": {
        "id": "V7DlkZqHv1RA",
        "outputId": "f70907bd-6372-4308-ba2e-7f4bfd8b3133",
        "colab": {
          "base_uri": "https://localhost:8080/"
        }
      },
      "execution_count": 1,
      "outputs": [
        {
          "output_type": "stream",
          "name": "stdout",
          "text": [
            "Vector A:\n",
            "2 4 1 7\n",
            "Vector B:\n",
            "9 4 8 3\n",
            "Addition:\n",
            "11 8 9 10\n",
            "\n",
            "Matrix D:\n",
            "7 4 4 8\n",
            "7 8 7 6\n",
            "5 3 3 8\n",
            "0 5 3 6\n",
            "\n",
            "Matrix E:\n",
            "7 3 3 3\n",
            "9 6 2 5\n",
            "0 3 4 9\n",
            "2 4 9 6\n",
            "\n",
            "Multiplication:\n",
            "101 89 117 125\n",
            "133 114 119 160\n",
            "78 74 105 105\n",
            "57 63 76 88\n",
            "\n"
          ]
        }
      ]
    },
    {
      "cell_type": "code",
      "source": [],
      "metadata": {
        "id": "isNhOGJ1wCED"
      },
      "execution_count": null,
      "outputs": []
    }
  ],
  "metadata": {
    "colab": {
      "name": "Welcome To Colab",
      "toc_visible": true,
      "provenance": [],
      "gpuType": "T4"
    },
    "kernelspec": {
      "display_name": "Python 3",
      "name": "python3"
    },
    "accelerator": "GPU"
  },
  "nbformat": 4,
  "nbformat_minor": 0
}